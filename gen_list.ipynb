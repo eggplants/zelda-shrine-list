{
 "cells": [
  {
   "cell_type": "code",
   "execution_count": 1,
   "id": "c240f068",
   "metadata": {},
   "outputs": [],
   "source": [
    "import pandas\n",
    "import itertools"
   ]
  },
  {
   "cell_type": "code",
   "execution_count": 2,
   "id": "ba7e789e",
   "metadata": {},
   "outputs": [],
   "source": [
    "URL = \"https://game8.jp/zelda-totk/526438\""
   ]
  },
  {
   "cell_type": "code",
   "execution_count": 3,
   "id": "3757ef0f",
   "metadata": {},
   "outputs": [],
   "source": [
    "df_tables = pandas.read_html(URL)"
   ]
  },
  {
   "cell_type": "code",
   "execution_count": 4,
   "id": "6a46b701",
   "metadata": {},
   "outputs": [],
   "source": [
    "table_idxs = (5, 7, 8, 9, 10, 11, 12, 13, 14, 15)\n",
    "area_names = (\"始まりの空島\",) + tuple(\n",
    "    itertools.chain.from_iterable([r for r in df_tables[6].values])\n",
    ")[:-1] + (\"空島\",)\n",
    "assert len(table_idxs) == len(area_names)"
   ]
  },
  {
   "cell_type": "code",
   "execution_count": 5,
   "id": "d2cec98f",
   "metadata": {},
   "outputs": [],
   "source": [
    "shrine_dic: dict[str, str] = {}\n",
    "for table_idx, area_name in zip(table_idxs, area_names, strict=True):\n",
    "    shrine_dic[area_name] = [n for n in df_tables[table_idx][\"祠/試練名\"]]\n",
    "shrine_count = sum(map(len, shrine_dic.values()))"
   ]
  },
  {
   "cell_type": "code",
   "execution_count": 6,
   "id": "4e45948f",
   "metadata": {},
   "outputs": [],
   "source": [
    "md_f = open(\"zelda_shrine_list.md\", \"w\")\n",
    "\n",
    "md_f.write(\"# ゼルダ ティアキン 祠一覧\\n\\n\")\n",
    "md_f.write(f\"全 {shrine_count} 箇所\\n\\n\")\n",
    "\n",
    "for area_name, shrine_names in shrine_dic.items():\n",
    "    md_f.write(f\"## {area_name}\\n\\n\")\n",
    "    md_f.write(f\"全 {len(shrine_names)} 箇所\\n\\n\")\n",
    "\n",
    "    for shrine_name in shrine_names:\n",
    "        md_f.write(f\"- [ ] {shrine_name}\\n\")\n",
    "    md_f.write(f\"\\n---\\n\\n\")\n",
    "\n",
    "md_f.write(f\"引用: <{URL}>\\n\")\n",
    "\n",
    "md_f.close()"
   ]
  }
 ],
 "metadata": {
  "kernelspec": {
   "display_name": "Python 3 (ipykernel)",
   "language": "python",
   "name": "python3"
  },
  "language_info": {
   "codemirror_mode": {
    "name": "ipython",
    "version": 3
   },
   "file_extension": ".py",
   "mimetype": "text/x-python",
   "name": "python",
   "nbconvert_exporter": "python",
   "pygments_lexer": "ipython3",
   "version": "3.11.2"
  }
 },
 "nbformat": 4,
 "nbformat_minor": 5
}
